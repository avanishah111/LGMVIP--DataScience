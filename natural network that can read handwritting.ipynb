{
 "cells": [
  {
   "cell_type": "markdown",
   "id": "1c98b016",
   "metadata": {},
   "source": [
    "### Develop a natural network that can read handwritting"
   ]
  },
  {
   "cell_type": "code",
   "execution_count": 1,
   "id": "0bc4c98d",
   "metadata": {},
   "outputs": [],
   "source": [
    "#Importing necessary libraries:\n",
    "import numpy as np\n",
    "import pandas as pd\n",
    "import matplotlib.pyplot as plt\n",
    "import seaborn as sns\n",
    "from numpy import unique, argmax\n",
    "import tensorflow as tf\n",
    "from tensorflow import keras\n"
   ]
  },
  {
   "cell_type": "code",
   "execution_count": 2,
   "id": "3d4dcbe5",
   "metadata": {},
   "outputs": [],
   "source": [
    "#Loading the MNIST dataset:\n",
    "mnist = tf.keras.datasets.mnist\n",
    "(x_train, y_train), (x_test, y_test) = mnist.load_data()\n"
   ]
  },
  {
   "cell_type": "markdown",
   "id": "97d95536",
   "metadata": {},
   "source": [
    "This code loads the MNIST dataset, which is a collection of handwritten digits (0-9) along with their corresponding labels. The dataset is split into training and testing sets."
   ]
  },
  {
   "cell_type": "code",
   "execution_count": 3,
   "id": "65d1d99c",
   "metadata": {},
   "outputs": [
    {
     "data": {
      "image/png": "[encoded data removed]",
      "text/plain": [
       "<Figure size 360x216 with 10 Axes>"
      ]
     },
     "metadata": {},
     "output_type": "display_data"
    }
   ],
   "source": [
    "\n",
    "# Visulaizing Subsets of images in MNIST Dataset along with coressponding labels.\n",
    "\n",
    "fig=plt.figure(figsize=(5,3))\n",
    "for i in range(10):\n",
    "    ax =fig.add_subplot(2,5,i+1, xticks=[], yticks=[])\n",
    "    ax.imshow(np.squeeze(x_train[i]), cmap='Blues')\n",
    "    ax.set_title(y_train[i])"
   ]
  },
  {
   "cell_type": "code",
   "execution_count": 4,
   "id": "c279345c",
   "metadata": {},
   "outputs": [],
   "source": [
    "#Preprocessing the data:\n",
    "x_train = x_train.reshape((x_train.shape[0], x_train.shape[1], x_train.shape[2], 1))\n",
    "x_test = x_test.reshape((x_test.shape[0], x_test.shape[1], x_test.shape[2], 1))\n",
    "x_train = x_train.astype('float32') / 255.0\n",
    "x_test = x_test.astype('float32') / 255.0\n"
   ]
  },
  {
   "cell_type": "markdown",
   "id": "7ec4bb69",
   "metadata": {},
   "source": [
    "In this step, the input data x_train and x_test are reshaped to have a single channel (grayscale) dimension. The pixel values are also scaled to the range [0, 1] by dividing by 255."
   ]
  },
  {
   "cell_type": "code",
   "execution_count": 5,
   "id": "0b3b0122",
   "metadata": {},
   "outputs": [],
   "source": [
    "#Building the model:\n",
    "model = tf.keras.models.Sequential([\n",
    "    tf.keras.layers.Flatten(input_shape=(28, 28)),\n",
    "    tf.keras.layers.Dense(128, activation='relu'),\n",
    "    tf.keras.layers.Dropout(0.2),\n",
    "    tf.keras.layers.Dense(10)\n",
    "])\n"
   ]
  },
  {
   "cell_type": "markdown",
   "id": "700754ea",
   "metadata": {},
   "source": [
    "This code defines a sequential model using Keras. The model consists of a flattening layer that converts the 2D input images into a 1D array, followed by a dense layer with 128 units and ReLU activation function. A dropout layer is added to prevent overfitting, and finally, a dense layer with 10 units (corresponding to the 10 digits) is added without an activation function."
   ]
  },
  {
   "cell_type": "code",
   "execution_count": 6,
   "id": "664b94aa",
   "metadata": {},
   "outputs": [],
   "source": [
    "#Compiling and training the model:\n",
    "loss_fn = tf.keras.losses.SparseCategoricalCrossentropy(from_logits=True)\n",
    "model.compile(optimizer='adam', loss=loss_fn, metrics=['accuracy'])\n"
   ]
  },
  {
   "cell_type": "markdown",
   "id": "474628fd",
   "metadata": {},
   "source": [
    "The code specifies the loss function (SparseCategoricalCrossentropy) and optimizer (adam) for the model. It then compiles the model with these settings. The model is trained using the training data (x_train and y_train) for 7 epochs."
   ]
  },
  {
   "cell_type": "code",
   "execution_count": 7,
   "id": "8eb394a7",
   "metadata": {},
   "outputs": [
    {
     "name": "stdout",
     "output_type": "stream",
     "text": [
      "Epoch 1/7\n",
      "1875/1875 [==============================] - 5s 2ms/step - loss: 0.2919 - accuracy: 0.9151\n",
      "Epoch 2/7\n",
      "1875/1875 [==============================] - 5s 3ms/step - loss: 0.1440 - accuracy: 0.9563\n",
      "Epoch 3/7\n",
      "1875/1875 [==============================] - 4s 2ms/step - loss: 0.1071 - accuracy: 0.9682\n",
      "Epoch 4/7\n",
      "1875/1875 [==============================] - 4s 2ms/step - loss: 0.0883 - accuracy: 0.9730\n",
      "Epoch 5/7\n",
      "1875/1875 [==============================] - 4s 2ms/step - loss: 0.0729 - accuracy: 0.9772\n",
      "Epoch 6/7\n",
      "1875/1875 [==============================] - 4s 2ms/step - loss: 0.0642 - accuracy: 0.9802\n",
      "Epoch 7/7\n",
      "1875/1875 [==============================] - 4s 2ms/step - loss: 0.0578 - accuracy: 0.9812\n"
     ]
    },
    {
     "data": {
      "text/plain": [
       "<keras.callbacks.History at 0x1543209bcd0>"
      ]
     },
     "execution_count": 7,
     "metadata": {},
     "output_type": "execute_result"
    }
   ],
   "source": [
    "#trains the compiled model using the provided training data.\n",
    "model.fit(x_train, y_train, epochs=7)\n"
   ]
  },
  {
   "cell_type": "code",
   "execution_count": 8,
   "id": "ef7db80c",
   "metadata": {},
   "outputs": [
    {
     "name": "stdout",
     "output_type": "stream",
     "text": [
      "313/313 [==============================] - 1s 2ms/step - loss: 0.0685 - accuracy: 0.9782\n"
     ]
    },
    {
     "data": {
      "text/plain": [
       "[0.0685485228896141, 0.9782000184059143]"
      ]
     },
     "execution_count": 8,
     "metadata": {},
     "output_type": "execute_result"
    }
   ],
   "source": [
    "#Evaluating the model:\n",
    "model.evaluate(x_test, y_test)\n"
   ]
  },
  {
   "cell_type": "markdown",
   "id": "11aac2a6",
   "metadata": {},
   "source": [
    "This code evaluates the trained model on the test data (x_test and y_test) and prints the loss and accuracy metrics."
   ]
  },
  {
   "cell_type": "code",
   "execution_count": 9,
   "id": "0f0e1173",
   "metadata": {},
   "outputs": [],
   "source": [
    "#Making predictions:\n",
    "prediction = model(x_train[:1]).numpy()\n",
    "predictions = tf.nn.softmax(prediction).numpy()\n"
   ]
  },
  {
   "cell_type": "markdown",
   "id": "6b7f5446",
   "metadata": {},
   "source": [
    "The code makes predictions on a subset of the training data (x_train[:1]). The model returns logits, which are converted to probabilities using the softmax function."
   ]
  },
  {
   "cell_type": "code",
   "execution_count": 10,
   "id": "53b3f51e",
   "metadata": {},
   "outputs": [],
   "source": [
    "#Creating a probability model:\n",
    "probability_model = tf.keras.Sequential([model, tf.keras.layers.Softmax()])\n"
   ]
  },
  {
   "cell_type": "markdown",
   "id": "56b2490e",
   "metadata": {},
   "source": [
    "This code creates a new model (probability_model) by appending a softmax layer to the original model. This softmax layer converts the logits into probabilities."
   ]
  },
  {
   "cell_type": "code",
   "execution_count": 11,
   "id": "c61a4bfb",
   "metadata": {},
   "outputs": [],
   "source": [
    "predictions = probability_model(x_test[:5])\n"
   ]
  },
  {
   "cell_type": "code",
   "execution_count": 12,
   "id": "6eb2e0db",
   "metadata": {},
   "outputs": [
    {
     "name": "stdout",
     "output_type": "stream",
     "text": [
      "1/1 [==============================] - 0s 67ms/step\n"
     ]
    }
   ],
   "source": [
    "# Selecting an example image from the test set\n",
    "example_image = x_test[18]\n",
    "example_label = y_test[18]\n",
    "\n",
    "# Reshape the image to match the input shape of the model\n",
    "example_image = example_image.reshape((1, 28, 28, 1))\n",
    "\n",
    "# Make predictions on the example image using the model\n",
    "predictions = probability_model.predict(example_image)\n",
    "predicted_label = np.argmax(predictions)\n",
    "\n",
    "\n"
   ]
  },
  {
   "cell_type": "markdown",
   "id": "6dad11a8",
   "metadata": {},
   "source": [
    "This code selects an example image and its corresponding label from the test set. The image is reshaped to match the input shape of the model. Predictions are made on the reshaped image using the probability_model, and the predicted label is obtained by finding the index with the highest probability."
   ]
  },
  {
   "cell_type": "code",
   "execution_count": 13,
   "id": "51669a08",
   "metadata": {},
   "outputs": [
    {
     "data": {
      "image/png": "[encoded data removed]",
      "text/plain": [
       "<Figure size 432x288 with 1 Axes>"
      ]
     },
     "metadata": {
      "needs_background": "light"
     },
     "output_type": "display_data"
    }
   ],
   "source": [
    "# Display the example image and predicted label\n",
    "plt.imshow(example_image.reshape(28, 28), cmap='gray')\n",
    "plt.title(f\"Predicted label: {predicted_label}, True label: {example_label}\")\n",
    "plt.axis('off')\n",
    "plt.show()"
   ]
  },
  {
   "cell_type": "markdown",
   "id": "419a590a",
   "metadata": {},
   "source": [
    "This code displays the example image using plt.imshow() and sets the title with the predicted label and the true label. The resulting plot shows the image along with the predicted label."
   ]
  }
 ],
 "metadata": {
  "kernelspec": {
   "display_name": "Python 3 (ipykernel)",
   "language": "python",
   "name": "python3"
  },
  "language_info": {
   "codemirror_mode": {
    "name": "ipython",
    "version": 3
   },
   "file_extension": ".py",
   "mimetype": "text/x-python",
   "name": "python",
   "nbconvert_exporter": "python",
   "pygments_lexer": "ipython3",
   "version": "3.9.12"
  }
 },
 "nbformat": 4,
 "nbformat_minor": 5
}
